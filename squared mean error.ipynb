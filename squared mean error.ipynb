{
 "cells": [
  {
   "cell_type": "code",
   "execution_count": 35,
   "metadata": {},
   "outputs": [],
   "source": [
    "import numpy as np\n",
    "y_t=np.array([0.55,0.55,0.65,0.85])\n",
    "y_predicted=np.array([1,1.00,1.02,1.05])\n",
    "def squared_mean(y_t,y_predicted):\n",
    "    total=0\n",
    "    for y_t,y_predicted in zip(y_t,y_predicted):\n",
    "        total+= ((y_t- y_predicted) **2)\n",
    "    mean=total/4\n",
    "    print(\"Total errors\",total)\n",
    "    print(\"squared mean error\",mean)"
   ]
  },
  {
   "cell_type": "code",
   "execution_count": 42,
   "metadata": {},
   "outputs": [
    {
     "name": "stdout",
     "output_type": "stream",
     "text": [
      "Total errors 0.5819\n",
      "squared mean error 0.145475\n"
     ]
    }
   ],
   "source": [
    "squared_mean(y_t,y_predicted)"
   ]
  },
  {
   "cell_type": "code",
   "execution_count": null,
   "metadata": {},
   "outputs": [],
   "source": []
  },
  {
   "cell_type": "code",
   "execution_count": 43,
   "metadata": {},
   "outputs": [
    {
     "data": {
      "text/plain": [
       "0.145475"
      ]
     },
     "execution_count": 43,
     "metadata": {},
     "output_type": "execute_result"
    }
   ],
   "source": [
    "#Using numpy methods\n",
    "np.square(np.subtract(y_t,y_predicted)).mean()"
   ]
  },
  {
   "cell_type": "code",
   "execution_count": null,
   "metadata": {},
   "outputs": [],
   "source": []
  }
 ],
 "metadata": {
  "kernelspec": {
   "display_name": "Python 3",
   "language": "python",
   "name": "python3"
  },
  "language_info": {
   "codemirror_mode": {
    "name": "ipython",
    "version": 3
   },
   "file_extension": ".py",
   "mimetype": "text/x-python",
   "name": "python",
   "nbconvert_exporter": "python",
   "pygments_lexer": "ipython3",
   "version": "3.8.3"
  }
 },
 "nbformat": 4,
 "nbformat_minor": 4
}
